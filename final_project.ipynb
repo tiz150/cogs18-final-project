{
 "cells": [
  {
   "cell_type": "markdown",
   "metadata": {},
   "source": [
    "# CogS 18 Final Project\n",
    "\n",
    "For this project, I am building a one-time-pad encryptor/decryptor, where the encryption pad is randomly generate for every encryption, so that the encrypted file isn't breakable. The process of encryption is to first to read the fle or input as binary numbers, then gerneteate a one time pad with the same length using the random number generator, and finally do a XOR operation on the raw input and the randombit, and then export the random pad and XOR result as the keys.\n",
    "\n",
    "my project includes three main function: encode/decode a integer, encode/decode a text message and encode/decode a text file."
   ]
  },
  {
   "cell_type": "markdown",
   "metadata": {},
   "source": [
    "git username: tiz150\n",
    "repo: https://github.com/tiz150/cogs18-final-project"
   ]
  },
  {
   "cell_type": "code",
   "execution_count": 9,
   "metadata": {},
   "outputs": [],
   "source": [
    "#setup\n",
    "from modules.oneTimePad import oneTimeEncryption\n"
   ]
  },
  {
   "cell_type": "markdown",
   "metadata": {},
   "source": [
    "# Encode text message and decode text message:\n",
    "\n",
    "below is an example of encrypting text message"
   ]
  },
  {
   "cell_type": "code",
   "execution_count": 2,
   "metadata": {},
   "outputs": [
    {
     "name": "stdout",
     "output_type": "stream",
     "text": [
      "Original message is: I love you\n",
      "\n",
      "\n",
      "key one is: 00010010011110 00000100001001 10111000011001 11101111001101 10010001110101 01101111001100 10010010101111 11100101001110 01111001010100 10000011000011 01010011110000 \n",
      "\n",
      "key two is: 00010011010111 00000100101001 10111001110101 11101110100010 10010000000011 01101110101001 10010010001111 11100100110111 01111000111011 10000010110110 01010011111010 \n",
      "\n",
      "decoded message is: I love you\n",
      "\n"
     ]
    }
   ],
   "source": [
    "original_message = \"I love you\\n\"\n",
    "print(\"Original message is: \" + original_message + \"\\n\")\n",
    "key1, key2 = oneTimeEncryption.encodeText(original_message)\n",
    "print(\"key one is: \" + key1 + \"\\n\")\n",
    "print(\"key two is: \" + key2 + \"\\n\")\n",
    "print(\"decoded message is: \" + oneTimeEncryption.decodeText(key1, key2))\n"
   ]
  },
  {
   "cell_type": "markdown",
   "metadata": {},
   "source": [
    "# Encode integer and decode integer:\n",
    "\n",
    "below is an example of encrypting text message (only work with positive integer. for negative method, use encodeText instead  )"
   ]
  },
  {
   "cell_type": "code",
   "execution_count": 3,
   "metadata": {},
   "outputs": [
    {
     "name": "stdout",
     "output_type": "stream",
     "text": [
      "Original int is: 456789\n",
      "\n",
      "key one is: 0001011010000100011\n",
      "\n",
      "key two is: 1100100110001110110\n",
      "\n",
      "decoded int is: 456789\n"
     ]
    }
   ],
   "source": [
    "original_int = 456789\n",
    "print(\"Original int is: \" + str(original_int) + \"\\n\")\n",
    "key1, key2 = oneTimeEncryption.encodeInteger(original_int)\n",
    "print(\"key one is: \" + key1 + \"\\n\")\n",
    "print(\"key two is: \" + key2 + \"\\n\")\n",
    "print(\"decoded int is: \" + str(oneTimeEncryption.decodeInteger(key1, key2)))\n"
   ]
  },
  {
   "cell_type": "markdown",
   "metadata": {},
   "source": [
    "# Encode file and decode file:\n",
    "\n",
    "below is an example of encrypting text file"
   ]
  },
  {
   "cell_type": "code",
   "execution_count": 4,
   "metadata": {},
   "outputs": [
    {
     "name": "stdout",
     "output_type": "stream",
     "text": [
      "Original file text is: hello world\n",
      "\n",
      "key one is: 00110110110110 00001000110110 10010111101101 01100000000101 11100111010001 00101101100111 11111000110100 00001110000100 10010101001101 00100111101100 00001110100000 \n",
      "\n",
      "key two is: 00110111011110 00001001010011 10010110000001 01100001101001 11100110111110 00101101000111 11111001000011 00001111101011 10010100111111 00100110000000 00001111000100 \n",
      "\n",
      "decoded text file is: hello world\n",
      "\n"
     ]
    }
   ],
   "source": [
    "original_file = \"modules/Hello.txt\"\n",
    "print(\"Original file text is: \" + open(original_file, \"r\").read() + \"\\n\")\n",
    "oneTimeEncryption.encodeTextFile(original_file)\n",
    "\n",
    "key1 = \"modules/Hello(key1).txt\"\n",
    "key2 = \"modules/Hello(key2).txt\"\n",
    "\n",
    "print(\"key one is: \" + open(key1, \"r\").read() + \"\\n\")\n",
    "print(\"key two is: \" + open(key2, \"r\").read() + \"\\n\")\n",
    "\n",
    "oneTimeEncryption.decodeTextFile(key1, key2)\n",
    "print(\"decoded text file is: \" + open(original_file, \"r\").read() + \"\\n\") # the original file have already been updated\n"
   ]
  }
 ],
 "metadata": {
  "kernelspec": {
   "display_name": "Python 3",
   "language": "python",
   "name": "python3"
  },
  "language_info": {
   "codemirror_mode": {
    "name": "ipython",
    "version": 3
   },
   "file_extension": ".py",
   "mimetype": "text/x-python",
   "name": "python",
   "nbconvert_exporter": "python",
   "pygments_lexer": "ipython3",
   "version": "3.7.0"
  }
 },
 "nbformat": 4,
 "nbformat_minor": 2
}
